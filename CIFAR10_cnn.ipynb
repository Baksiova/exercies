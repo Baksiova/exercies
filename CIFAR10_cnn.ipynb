{
 "cells": [
  {
   "cell_type": "code",
   "execution_count": 1,
   "id": "52775853",
   "metadata": {},
   "outputs": [
    {
     "name": "stderr",
     "output_type": "stream",
     "text": [
      "2023-12-02 16:16:34.828062: I tensorflow/core/platform/cpu_feature_guard.cc:182] This TensorFlow binary is optimized to use available CPU instructions in performance-critical operations.\n",
      "To enable the following instructions: AVX2 FMA, in other operations, rebuild TensorFlow with the appropriate compiler flags.\n"
     ]
    }
   ],
   "source": [
    "import tensorflow as tf\n",
    "from tensorflow.keras import datasets, layers, models\n",
    "import matplotlib.pyplot as plt\n",
    "import numpy as np\n"
   ]
  },
  {
   "cell_type": "code",
   "execution_count": 14,
   "id": "5ec7e7f1",
   "metadata": {},
   "outputs": [],
   "source": [
    "(X_train, y_train), (X_test, y_test) = datasets.cifar10.load_data()"
   ]
  },
  {
   "cell_type": "code",
   "execution_count": 6,
   "id": "16238abc",
   "metadata": {},
   "outputs": [],
   "source": [
    "def plot_sample(X,y,index):\n",
    "    plt.figure(figsize=(15,2))\n",
    "    plt.imshow(X[index])\n",
    "    plt.xlabel()"
   ]
  },
  {
   "cell_type": "code",
   "execution_count": 3,
   "id": "fcfd12a6",
   "metadata": {
    "scrolled": false
   },
   "outputs": [
    {
     "data": {
      "text/plain": [
       "array([[[ 59,  62,  63],\n",
       "        [ 43,  46,  45],\n",
       "        [ 50,  48,  43],\n",
       "        ...,\n",
       "        [158, 132, 108],\n",
       "        [152, 125, 102],\n",
       "        [148, 124, 103]],\n",
       "\n",
       "       [[ 16,  20,  20],\n",
       "        [  0,   0,   0],\n",
       "        [ 18,   8,   0],\n",
       "        ...,\n",
       "        [123,  88,  55],\n",
       "        [119,  83,  50],\n",
       "        [122,  87,  57]],\n",
       "\n",
       "       [[ 25,  24,  21],\n",
       "        [ 16,   7,   0],\n",
       "        [ 49,  27,   8],\n",
       "        ...,\n",
       "        [118,  84,  50],\n",
       "        [120,  84,  50],\n",
       "        [109,  73,  42]],\n",
       "\n",
       "       ...,\n",
       "\n",
       "       [[208, 170,  96],\n",
       "        [201, 153,  34],\n",
       "        [198, 161,  26],\n",
       "        ...,\n",
       "        [160, 133,  70],\n",
       "        [ 56,  31,   7],\n",
       "        [ 53,  34,  20]],\n",
       "\n",
       "       [[180, 139,  96],\n",
       "        [173, 123,  42],\n",
       "        [186, 144,  30],\n",
       "        ...,\n",
       "        [184, 148,  94],\n",
       "        [ 97,  62,  34],\n",
       "        [ 83,  53,  34]],\n",
       "\n",
       "       [[177, 144, 116],\n",
       "        [168, 129,  94],\n",
       "        [179, 142,  87],\n",
       "        ...,\n",
       "        [216, 184, 140],\n",
       "        [151, 118,  84],\n",
       "        [123,  92,  72]]], dtype=uint8)"
      ]
     },
     "execution_count": 3,
     "metadata": {},
     "output_type": "execute_result"
    }
   ],
   "source": [
    "X_train[0,]"
   ]
  },
  {
   "cell_type": "code",
   "execution_count": 16,
   "id": "fa891d5c",
   "metadata": {},
   "outputs": [
    {
     "data": {
      "text/plain": [
       "array([6, 9, 9, 4, 1], dtype=uint8)"
      ]
     },
     "execution_count": 16,
     "metadata": {},
     "output_type": "execute_result"
    }
   ],
   "source": [
    "y_train = y_train.reshape(-1, )\n",
    "y_train[0:5]"
   ]
  },
  {
   "cell_type": "code",
   "execution_count": 4,
   "id": "483a0f59",
   "metadata": {},
   "outputs": [
    {
     "name": "stdout",
     "output_type": "stream",
     "text": [
      "Model: \"sequential\"\n",
      "_________________________________________________________________\n",
      " Layer (type)                Output Shape              Param #   \n",
      "=================================================================\n",
      " conv2d (Conv2D)             (None, 30, 30, 64)        1792      \n",
      "                                                                 \n",
      " max_pooling2d (MaxPooling2  (None, 15, 15, 64)        0         \n",
      " D)                                                              \n",
      "                                                                 \n",
      " conv2d_1 (Conv2D)           (None, 13, 13, 128)       73856     \n",
      "                                                                 \n",
      " max_pooling2d_1 (MaxPoolin  (None, 6, 6, 128)         0         \n",
      " g2D)                                                            \n",
      "                                                                 \n",
      " conv2d_2 (Conv2D)           (None, 4, 4, 128)         147584    \n",
      "                                                                 \n",
      " flatten (Flatten)           (None, 2048)              0         \n",
      "                                                                 \n",
      " dense (Dense)               (None, 128)               262272    \n",
      "                                                                 \n",
      " dense_1 (Dense)             (None, 10)                1290      \n",
      "                                                                 \n",
      "=================================================================\n",
      "Total params: 486794 (1.86 MB)\n",
      "Trainable params: 486794 (1.86 MB)\n",
      "Non-trainable params: 0 (0.00 Byte)\n",
      "_________________________________________________________________\n",
      "Epoch 1/20\n",
      "1563/1563 [==============================] - 209s 133ms/step - loss: 1.4597 - accuracy: 0.4718 - val_loss: 1.1525 - val_accuracy: 0.5991\n",
      "Epoch 2/20\n",
      "1563/1563 [==============================] - 233s 149ms/step - loss: 1.0540 - accuracy: 0.6324 - val_loss: 0.9863 - val_accuracy: 0.6535\n",
      "Epoch 3/20\n",
      "1563/1563 [==============================] - 242s 155ms/step - loss: 0.8839 - accuracy: 0.6902 - val_loss: 0.9227 - val_accuracy: 0.6796\n",
      "Epoch 4/20\n",
      "1563/1563 [==============================] - 322s 206ms/step - loss: 0.7683 - accuracy: 0.7309 - val_loss: 0.8647 - val_accuracy: 0.7039\n",
      "Epoch 5/20\n",
      "1563/1563 [==============================] - 324s 207ms/step - loss: 0.6888 - accuracy: 0.7576 - val_loss: 0.8250 - val_accuracy: 0.7182\n",
      "Epoch 6/20\n",
      "1563/1563 [==============================] - 339s 217ms/step - loss: 0.6027 - accuracy: 0.7892 - val_loss: 0.8624 - val_accuracy: 0.7203\n",
      "Epoch 7/20\n",
      "1563/1563 [==============================] - 468s 299ms/step - loss: 0.5322 - accuracy: 0.8116 - val_loss: 0.8356 - val_accuracy: 0.7267\n",
      "Epoch 8/20\n",
      "1563/1563 [==============================] - 417s 267ms/step - loss: 0.4639 - accuracy: 0.8361 - val_loss: 0.9194 - val_accuracy: 0.7238\n",
      "Epoch 9/20\n",
      "1563/1563 [==============================] - 365s 234ms/step - loss: 0.4043 - accuracy: 0.8561 - val_loss: 0.9343 - val_accuracy: 0.7217\n",
      "Epoch 10/20\n",
      "1563/1563 [==============================] - 371s 237ms/step - loss: 0.3529 - accuracy: 0.8738 - val_loss: 1.0149 - val_accuracy: 0.7176\n",
      "Epoch 11/20\n",
      "1563/1563 [==============================] - 277s 177ms/step - loss: 0.3002 - accuracy: 0.8934 - val_loss: 1.0913 - val_accuracy: 0.7190\n",
      "Epoch 12/20\n",
      "1563/1563 [==============================] - 334s 214ms/step - loss: 0.2565 - accuracy: 0.9101 - val_loss: 1.1395 - val_accuracy: 0.7159\n",
      "Epoch 13/20\n",
      "1563/1563 [==============================] - 334s 214ms/step - loss: 0.2349 - accuracy: 0.9160 - val_loss: 1.2944 - val_accuracy: 0.7012\n",
      "Epoch 14/20\n",
      "1563/1563 [==============================] - 439s 281ms/step - loss: 0.1946 - accuracy: 0.9306 - val_loss: 1.4019 - val_accuracy: 0.7061\n",
      "Epoch 15/20\n",
      "1563/1563 [==============================] - 509s 326ms/step - loss: 0.1804 - accuracy: 0.9360 - val_loss: 1.3890 - val_accuracy: 0.7153\n",
      "Epoch 16/20\n",
      "1563/1563 [==============================] - 450s 288ms/step - loss: 0.1637 - accuracy: 0.9422 - val_loss: 1.5069 - val_accuracy: 0.7072\n",
      "Epoch 17/20\n",
      "1563/1563 [==============================] - 442s 283ms/step - loss: 0.1469 - accuracy: 0.9486 - val_loss: 1.6876 - val_accuracy: 0.7070\n",
      "Epoch 18/20\n",
      "1563/1563 [==============================] - 339s 217ms/step - loss: 0.1367 - accuracy: 0.9521 - val_loss: 1.7006 - val_accuracy: 0.7088\n",
      "Epoch 19/20\n",
      "1563/1563 [==============================] - 290s 185ms/step - loss: 0.1324 - accuracy: 0.9538 - val_loss: 1.9585 - val_accuracy: 0.7010\n",
      "Epoch 20/20\n",
      "1563/1563 [==============================] - 360s 230ms/step - loss: 0.1233 - accuracy: 0.9579 - val_loss: 1.8884 - val_accuracy: 0.6993\n",
      "313/313 [==============================] - 20s 64ms/step - loss: 1.8884 - accuracy: 0.6993\n",
      "\n",
      "Test Accuracy: 69.93%\n"
     ]
    },
    {
     "data": {
      "image/png": "[encoded data removed]",
      "text/plain": [
       "<Figure size 640x480 with 1 Axes>"
      ]
     },
     "metadata": {},
     "output_type": "display_data"
    }
   ],
   "source": [
    "import tensorflow as tf\n",
    "from tensorflow.keras import datasets, layers, models\n",
    "import matplotlib.pyplot as plt\n",
    "import numpy as np\n",
    "\n",
    "# Load the dataset\n",
    "(X_train, y_train), (X_test, y_test) = datasets.cifar10.load_data()\n",
    "\n",
    "# Normalize the images to a range of 0 to 1\n",
    "X_train, X_test = X_train / 255.0, X_test / 255.0\n",
    "\n",
    "# Define the CNN architecture\n",
    "cnn = models.Sequential([\n",
    "    # Convolutional layer with 32 filters, each of size 3x3, and ReLU activation\n",
    "    layers.Conv2D(64, (3, 3), activation='relu', input_shape=(32, 32, 3)),\n",
    "    # MaxPooling layer to down-sample the spatial dimensions\n",
    "    layers.MaxPooling2D((2, 2)),\n",
    "    \n",
    "    # Convolutional layer with 64 filters, each of size 3x3, and ReLU activation\n",
    "    layers.Conv2D(128, (3, 3), activation='relu'),\n",
    "    # MaxPooling layer\n",
    "    layers.MaxPooling2D((2, 2)),\n",
    "    \n",
    "    # Convolutional layer with 64 filters, each of size 3x3, and ReLU activation\n",
    "    layers.Conv2D(128, (3, 3), activation='relu'),\n",
    "    \n",
    "    # Flatten layer to flatten the output of the previous layer\n",
    "    layers.Flatten(),\n",
    "    \n",
    "    # Dense (fully connected) layer with 64 neurons and ReLU activation\n",
    "    layers.Dense(128, activation='relu'),\n",
    "    \n",
    "    # Output layer with 10 neurons (for 10 classes) and softmax activation\n",
    "    layers.Dense(10, activation='softmax')\n",
    "])\n",
    "\n",
    "# Compile the model\n",
    "cnn.compile(optimizer='adam',\n",
    "              loss='sparse_categorical_crossentropy',\n",
    "              metrics=['accuracy'])\n",
    "\n",
    "# Display the model summary\n",
    "cnn.summary()\n",
    "\n",
    "# Train the model\n",
    "history = cnn.fit(X_train, y_train, epochs=20, validation_data=(X_test, y_test))\n",
    "\n",
    "# Evaluate the model on the test set\n",
    "test_loss, test_acc = cnn.evaluate(X_test, y_test)\n",
    "print(f\"\\nTest Accuracy: {test_acc * 100:.2f}%\")\n",
    "\n",
    "# Plot the training history (optional)\n",
    "plt.plot(history.history['accuracy'], label='accuracy')\n",
    "plt.plot(history.history['val_accuracy'], label = 'val_accuracy')\n",
    "plt.xlabel('Epoch')\n",
    "plt.ylabel('Accuracy')\n",
    "plt.ylim([0, 1])\n",
    "plt.legend(loc='lower right')\n",
    "plt.show()\n"
   ]
  },
  {
   "cell_type": "code",
   "execution_count": 11,
   "id": "e0e60f03",
   "metadata": {},
   "outputs": [],
   "source": [
    "classes = [\"airplane\", \"automobile\", \"bird\", \"cat\", \"deer\", \"dog\", \"frog\", \"horse\", \"ship\", \"truck\"]"
   ]
  },
  {
   "cell_type": "code",
   "execution_count": 17,
   "id": "504e1ce1",
   "metadata": {},
   "outputs": [],
   "source": [
    "def plot_sample(X,y,index):\n",
    "    plt.figure(figsize=(15,2))\n",
    "    plt.imshow(X[index])\n",
    "    plt.xlabel(classes[y[index]])"
   ]
  },
  {
   "cell_type": "code",
   "execution_count": 18,
   "id": "45d81a3d",
   "metadata": {
    "scrolled": true
   },
   "outputs": [
    {
     "data": {
      "image/png": "[encoded data removed]",
      "text/plain": [
       "<Figure size 1500x200 with 1 Axes>"
      ]
     },
     "metadata": {},
     "output_type": "display_data"
    }
   ],
   "source": [
    "plot_sample(X_train, y_train, 0)"
   ]
  },
  {
   "cell_type": "code",
   "execution_count": 19,
   "id": "c7163110",
   "metadata": {},
   "outputs": [
    {
     "data": {
      "image/png": "[encoded data removed]",
      "text/plain": [
       "<Figure size 1500x200 with 1 Axes>"
      ]
     },
     "metadata": {},
     "output_type": "display_data"
    }
   ],
   "source": [
    "plot_sample(X_train, y_train, 3)"
   ]
  },
  {
   "cell_type": "code",
   "execution_count": 24,
   "id": "b518f0e2",
   "metadata": {},
   "outputs": [],
   "source": [
    "X_train = X_train[0]/255\n",
    "X_test = X_test[0] /255"
   ]
  },
  {
   "cell_type": "code",
   "execution_count": null,
   "id": "2e2ab705",
   "metadata": {},
   "outputs": [],
   "source": []
  }
 ],
 "metadata": {
  "kernelspec": {
   "display_name": "Python 3 (ipykernel)",
   "language": "python",
   "name": "python3"
  },
  "language_info": {
   "codemirror_mode": {
    "name": "ipython",
    "version": 3
   },
   "file_extension": ".py",
   "mimetype": "text/x-python",
   "name": "python",
   "nbconvert_exporter": "python",
   "pygments_lexer": "ipython3",
   "version": "3.11.5"
  }
 },
 "nbformat": 4,
 "nbformat_minor": 5
}
